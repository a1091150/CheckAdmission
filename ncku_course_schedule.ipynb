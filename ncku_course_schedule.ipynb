{
 "cells": [
  {
   "cell_type": "markdown",
   "metadata": {},
   "source": [
    "# 說明"
   ]
  },
  {
   "cell_type": "markdown",
   "metadata": {},
   "source": [
    "原本想說做成搶課程式，不過我不是大學生，這個東西就隨意ㄅ"
   ]
  },
  {
   "cell_type": "code",
   "execution_count": 7,
   "metadata": {},
   "outputs": [],
   "source": [
    "import requests\n",
    "import bs4\n",
    "\n",
    "from IPython.display import HTML\n",
    "from PIL import Image\n",
    "import io\n",
    "\n",
    "def renderAsHtml(content:bytes):\n",
    "    display(HTML(str(content, \"utf8\")))\n",
    "    ()\n",
    "\n",
    "userid = \"\" # NCKU 帳號\n",
    "passwd = \"\" # Passwd 密碼"
   ]
  },
  {
   "cell_type": "code",
   "execution_count": 8,
   "metadata": {},
   "outputs": [],
   "source": [
    "ncku_forcelogin = \"https://course.ncku.edu.tw/index.php?c=auth&m=force_login\"\n",
    "ncku_logout = \"https://course.ncku.edu.tw/index.php?c=auth&m=logout\"\n",
    "ncku_student_info = \"https://course.ncku.edu.tw/index.php?c=profile&time=1659426250\" # time is current time.\n",
    "ncku_get = \"https://course.ncku.edu.tw/index.php?c=auth\"\n",
    "ncku_save_session = \"https://course.ncku.edu.tw/index.php?c=qry11215&m=save_sess\"\n",
    "ncku_course_schedule = \"https://course.ncku.edu.tw/index.php?c=cos32315\" # 我的課表"
   ]
  },
  {
   "cell_type": "markdown",
   "metadata": {},
   "source": [
    "# 登入"
   ]
  },
  {
   "cell_type": "code",
   "execution_count": 9,
   "metadata": {},
   "outputs": [
    {
     "name": "stdout",
     "output_type": "stream",
     "text": [
      "{'COURSE_WEB': 'ffffffff8f7cbb0045525d5f4f58455e445a4a423660', 'PHPSESSID': '7999f8ceb173240c26e88ca65840add7'}\n",
      "U2hWKAJ3WjBXfwU9BWxQYVdiAyYFLFd3CDJRa1RpXHQBIlVmVCQBcFVmBHYEcVt0AyUBbl8mUTdQYVAuBTs=\n"
     ]
    }
   ],
   "source": [
    "r = requests.get(ncku_get)\n",
    "\n",
    "# 登入用的資料是寫在網頁上，透過 submit 提交 Http POST\n",
    "soap = bs4.BeautifulSoup(r.content)\n",
    "# NCKU 把 csfrtoken 放在網頁上\n",
    "csfrtoken = soap.find(\"form\", {\"id\" : \"LoginForm\"}).find(\"input\", {\"name\": \"csrftoken\"})[\"value\"]\n",
    "\n",
    "# COURSE_WEB 跟 PHPSESSID 是必要欄位\n",
    "# 根據 Google, PHPSESSID 是 PHP 伺服器給的 session 是必要欄位\n",
    "cookies = r.cookies.get_dict()\n",
    "\n",
    "print(cookies)\n",
    "print(csfrtoken)"
   ]
  },
  {
   "cell_type": "code",
   "execution_count": 10,
   "metadata": {},
   "outputs": [
    {
     "data": {
      "image/png": "[encoded data removed]",
      "text/plain": [
       "<PIL.PngImagePlugin.PngImageFile image mode=P size=62x20>"
      ]
     },
     "metadata": {},
     "output_type": "display_data"
    },
    {
     "name": "stdout",
     "output_type": "stream",
     "text": [
      "{'COURSE_WEB': 'ffffffff8f7cbb0045525d5f4f58455e445a4a423660'}\n",
      "{'COURSE_WEB': 'ffffffff8f7cbb0045525d5f4f58455e445a4a423660', 'PHPSESSID': '7999f8ceb173240c26e88ca65840add7'}\n"
     ]
    }
   ],
   "source": [
    "# 驗證碼，看起來是用 imagstick 產生的。\n",
    "ncku_verifycode = \"https://course.ncku.edu.tw/index.php?c=verifycode\"\n",
    "r = requests.get(ncku_verifycode, cookies=cookies)\n",
    "\n",
    "image = Image.open(io.BytesIO(r.content))\n",
    "display(image)\n",
    "print(r.cookies.get_dict())\n",
    "print(cookies)"
   ]
  },
  {
   "cell_type": "code",
   "execution_count": null,
   "metadata": {},
   "outputs": [],
   "source": [
    "ncku_url = \"https://course.ncku.edu.tw/index.php?c=auth&m=login\"\n",
    "payload = {\n",
    "    \"user_id\" : userid, # 帳號\n",
    "    \"passwd\" : passwd,  # 密碼\n",
    "    \"code\" : \"0811\",\n",
    "    \"csrftoken\" : csfrtoken\n",
    "}\n",
    "r = requests.post(ncku_url, data=payload, cookies=cookies, allow_redirects=True)\n",
    "\n",
    "cookies = r.history[0].cookies.get_dict()\n",
    "\n",
    "# PHPSESSID 會被設定成與學號相關的字串，這樣就是完成登入了。\n",
    "print(cookies)"
   ]
  },
  {
   "cell_type": "markdown",
   "metadata": {},
   "source": [
    "# 我的課表"
   ]
  },
  {
   "cell_type": "code",
   "execution_count": 14,
   "metadata": {},
   "outputs": [],
   "source": [
    "r = requests.get(ncku_course_schedule, cookies=cookies)\n",
    "soap = bs4.BeautifulSoup(r.content)\n",
    "table = soap.find(\"table\", {\"id\": \"cl-table\"})"
   ]
  },
  {
   "cell_type": "code",
   "execution_count": 21,
   "metadata": {},
   "outputs": [
    {
     "data": {
      "text/html": [
       "<table class=\"table table-bordered table-condensed\" id=\"cl-table\">\n",
       "<thead>\n",
       "<tr>\n",
       "<th class=\"text-center info cl-th\">時間區段</th><th class=\"text-center info cl-th\">節次</th><th class=\"text-center info cl-th\">時間</th><th class=\"text-center info cl-th\">一</th><th class=\"text-center info cl-th\">二</th><th class=\"text-center info cl-th\">三</th><th class=\"text-center info cl-th\">四</th><th class=\"text-center info cl-th\">五</th><th class=\"text-center info cl-th\">六</th><th class=\"text-center info cl-th\">日</th> </tr>\n",
       "</thead>\n",
       "<tbody>\n",
       "<tr><th class=\"text-center info cl-th\" rowspan=\"5\" style=\"width: 100px;\">上午</th><th class=\"text-center info cl-th\" style=\"width: 80px;\">0</th><th class=\"text-center info cl-th\" style=\"width: 120px;\">07:10 ~ 8:00</th><td class=\"cl-td warning\"></td><td class=\"cl-td warning\"></td><td class=\"cl-td warning\"></td><td class=\"cl-td warning\"></td><td class=\"cl-td warning\"></td><td class=\"cl-td warning\"></td><td class=\"cl-td warning\"></td></tr><tr><th class=\"text-center info cl-th\" style=\"width: 80px;\">1</th><th class=\"text-center info cl-th\" style=\"width: 120px;\">08:10 ~ 9:00</th><td class=\"cl-td warning\"></td><td class=\"cl-td warning\"></td><td class=\"cl-td warning\"></td><td class=\"cl-td warning\"></td><td class=\"cl-td warning\"></td><td class=\"cl-td warning\"></td><td class=\"cl-td warning\"></td></tr><tr><th class=\"text-center info cl-th\" style=\"width: 80px;\">2</th><th class=\"text-center info cl-th\" style=\"width: 120px;\">09:10 ~ 10:00</th><td class=\"cl-td warning\"></td><td class=\"text-center td-yellow cl-td\">【Q5-048】資料探勘<br/>（地點：資訊新館-65405）<br/></td><td class=\"text-center td-yellow cl-td\">【Q5-041】基因體資訊學<br/>（地點：資訊系館-4202）<br/></td><td class=\"text-center td-yellow cl-td\">【Q5-007】電腦視覺與深度學習<br/>（地點：資訊新館-65405）<br/></td><td class=\"cl-td warning\"></td><td class=\"cl-td warning\"></td><td class=\"cl-td warning\"></td></tr><tr><th class=\"text-center info cl-th\" style=\"width: 80px;\">3</th><th class=\"text-center info cl-th\" style=\"width: 120px;\">10:10 ~ 11:00</th><td class=\"cl-td warning\"></td><td class=\"text-center td-yellow cl-td\">【Q5-048】資料探勘<br/>（地點：資訊新館-65405）<br/></td><td class=\"text-center td-yellow cl-td\">【Q5-041】基因體資訊學<br/>（地點：資訊系館-4202）<br/></td><td class=\"text-center td-yellow cl-td\">【Q5-007】電腦視覺與深度學習<br/>（地點：資訊新館-65405）<br/></td><td class=\"cl-td warning\"></td><td class=\"cl-td warning\"></td><td class=\"cl-td warning\"></td></tr><tr><th class=\"text-center info cl-th\" style=\"width: 80px;\">4</th><th class=\"text-center info cl-th\" style=\"width: 120px;\">11:10 ~ 12:00</th><td class=\"cl-td warning\"></td><td class=\"text-center td-yellow cl-td\">【Q5-048】資料探勘<br/>（地點：資訊新館-65405）<br/></td><td class=\"text-center td-yellow cl-td\">【Q5-041】基因體資訊學<br/>（地點：資訊系館-4202）<br/></td><td class=\"text-center td-yellow cl-td\">【Q5-007】電腦視覺與深度學習<br/>（地點：資訊新館-65405）<br/></td><td class=\"cl-td warning\"></td><td class=\"cl-td warning\"></td><td class=\"cl-td warning\"></td></tr><tr><th class=\"text-center info cl-th\" rowspan=\"1\" style=\"width: 100px;\">中午</th><th class=\"text-center info cl-th\" style=\"width: 80px;\">N</th><th class=\"text-center info cl-th\" style=\"width: 120px;\">12:10 ~ 13:00</th><td class=\"cl-td warning\"></td><td class=\"cl-td warning\"></td><td class=\"cl-td warning\"></td><td class=\"cl-td warning\"></td><td class=\"cl-td warning\"></td><td class=\"cl-td warning\"></td><td class=\"cl-td warning\"></td></tr><tr><th class=\"text-center info cl-th\" rowspan=\"5\" style=\"width: 100px;\">下午</th><th class=\"text-center info cl-th\" style=\"width: 80px;\">5</th><th class=\"text-center info cl-th\" style=\"width: 120px;\">13:10 ~ 14:00</th><td class=\"cl-td warning\"></td><td class=\"cl-td warning\"></td><td class=\"cl-td warning\"></td><td class=\"cl-td warning\"></td><td class=\"text-center td-yellow cl-td\">【Q5-003】資工與醫資導論<br/>（地點：資訊系館-4263）<br/></td><td class=\"cl-td warning\"></td><td class=\"cl-td warning\"></td></tr><tr><th class=\"text-center info cl-th\" style=\"width: 80px;\">6</th><th class=\"text-center info cl-th\" style=\"width: 120px;\">14:10 ~ 15:00</th><td class=\"cl-td warning\"></td><td class=\"cl-td warning\"></td><td class=\"cl-td warning\"></td><td class=\"cl-td warning\"></td><td class=\"text-center td-yellow cl-td\">【Q5-001】專題討論（一）<br/>（地點：資訊系館-4263）<br/></td><td class=\"cl-td warning\"></td><td class=\"cl-td warning\"></td></tr><tr><th class=\"text-center info cl-th\" style=\"width: 80px;\">7</th><th class=\"text-center info cl-th\" style=\"width: 120px;\">15:10 ~ 16:00</th><td class=\"cl-td warning\"></td><td class=\"text-center td-yellow cl-td\">【Q5-049】資訊科技產業專案設計<br/>（地點：資訊系館-4263）<br/></td><td class=\"cl-td warning\"></td><td class=\"cl-td warning\"></td><td class=\"text-center td-yellow cl-td\">【Q5-001】專題討論（一）<br/>（地點：資訊系館-4263）<br/></td><td class=\"cl-td warning\"></td><td class=\"cl-td warning\"></td></tr><tr><th class=\"text-center info cl-th\" style=\"width: 80px;\">8</th><th class=\"text-center info cl-th\" style=\"width: 120px;\">16:10 ~ 17:00</th><td class=\"cl-td warning\"></td><td class=\"text-center td-yellow cl-td\">【Q5-049】資訊科技產業專案設計<br/>（地點：資訊系館-4263）<br/></td><td class=\"cl-td warning\"></td><td class=\"cl-td warning\"></td><td class=\"cl-td warning\"></td><td class=\"cl-td warning\"></td><td class=\"cl-td warning\"></td></tr><tr><th class=\"text-center info cl-th\" style=\"width: 80px;\">9</th><th class=\"text-center info cl-th\" style=\"width: 120px;\">17:10 ~ 18:00</th><td class=\"cl-td warning\"></td><td class=\"text-center td-yellow cl-td\">【Q5-049】資訊科技產業專案設計<br/>（地點：資訊系館-4263）<br/></td><td class=\"cl-td warning\"></td><td class=\"cl-td warning\"></td><td class=\"cl-td warning\"></td><td class=\"cl-td warning\"></td><td class=\"cl-td warning\"></td></tr><tr><th class=\"text-center info cl-th\" rowspan=\"5\" style=\"width: 100px;\">夜間</th><th class=\"text-center info cl-th\" style=\"width: 80px;\">A</th><th class=\"text-center info cl-th\" style=\"width: 120px;\">18:10 ~ 19:00</th><td class=\"cl-td warning\"></td><td class=\"cl-td warning\"></td><td class=\"cl-td warning\"></td><td class=\"cl-td warning\"></td><td class=\"cl-td warning\"></td><td class=\"cl-td warning\"></td><td class=\"cl-td warning\"></td></tr><tr><th class=\"text-center info cl-th\" style=\"width: 80px;\">B</th><th class=\"text-center info cl-th\" style=\"width: 120px;\">19:10 ~ 20:00</th><td class=\"cl-td warning\"></td><td class=\"cl-td warning\"></td><td class=\"cl-td warning\"></td><td class=\"cl-td warning\"></td><td class=\"cl-td warning\"></td><td class=\"cl-td warning\"></td><td class=\"cl-td warning\"></td></tr><tr><th class=\"text-center info cl-th\" style=\"width: 80px;\">C</th><th class=\"text-center info cl-th\" style=\"width: 120px;\">20:10 ~ 21:00</th><td class=\"cl-td warning\"></td><td class=\"cl-td warning\"></td><td class=\"cl-td warning\"></td><td class=\"cl-td warning\"></td><td class=\"cl-td warning\"></td><td class=\"cl-td warning\"></td><td class=\"cl-td warning\"></td></tr><tr><th class=\"text-center info cl-th\" style=\"width: 80px;\">D</th><th class=\"text-center info cl-th\" style=\"width: 120px;\">21:10 ~ 22:00</th><td class=\"cl-td warning\"></td><td class=\"cl-td warning\"></td><td class=\"cl-td warning\"></td><td class=\"cl-td warning\"></td><td class=\"cl-td warning\"></td><td class=\"cl-td warning\"></td><td class=\"cl-td warning\"></td></tr><tr><th class=\"text-center info cl-th\" style=\"width: 80px;\">E</th><th class=\"text-center info cl-th\" style=\"width: 120px;\"></th><td class=\"cl-td warning\"></td><td class=\"cl-td warning\"></td><td class=\"cl-td warning\"></td><td class=\"cl-td warning\"></td><td class=\"cl-td warning\"></td><td class=\"cl-td warning\"></td><td class=\"cl-td warning\"></td></tr> <tr>\n",
       "<th class=\"text-center info cl-th\" colspan=\"3\">時間未定或彈性時間<br/>（含彈性密集課程）</th>\n",
       "<td class=\"cl-td warning\" colspan=\"7\"></td> </tr>\n",
       "</tbody>\n",
       "</table>"
      ],
      "text/plain": [
       "<IPython.core.display.HTML object>"
      ]
     },
     "metadata": {},
     "output_type": "display_data"
    }
   ],
   "source": [
    "tt = table.__str__()\n",
    "\n",
    "display(HTML(tt))"
   ]
  }
 ],
 "metadata": {
  "kernelspec": {
   "display_name": "Python 3.8.10 ('ktensor')",
   "language": "python",
   "name": "python3"
  },
  "language_info": {
   "codemirror_mode": {
    "name": "ipython",
    "version": 3
   },
   "file_extension": ".py",
   "mimetype": "text/x-python",
   "name": "python",
   "nbconvert_exporter": "python",
   "pygments_lexer": "ipython3",
   "version": "3.8.10"
  },
  "orig_nbformat": 4,
  "vscode": {
   "interpreter": {
    "hash": "527308d3d76313f2ba0d81a980b849ed09b1f67a573759b8fbcfe642d4736f37"
   }
  }
 },
 "nbformat": 4,
 "nbformat_minor": 2
}
